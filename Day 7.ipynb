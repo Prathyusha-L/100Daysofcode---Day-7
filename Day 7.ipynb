{
 "cells": [
  {
   "cell_type": "markdown",
   "metadata": {},
   "source": [
    "# Name: - L Prathyusha"
   ]
  },
  {
   "cell_type": "markdown",
   "metadata": {},
   "source": [
    "<font size=\"4\">Python object oriented programming-OOPs (combination of data and code)"
   ]
  },
  {
   "cell_type": "code",
   "execution_count": 2,
   "metadata": {},
   "outputs": [
    {
     "name": "stdout",
     "output_type": "stream",
     "text": [
      "this is student class with required data\n",
      "Help on class Student in module __main__:\n",
      "\n",
      "class Student(builtins.object)\n",
      " |  this is student class with required data\n",
      " |  \n",
      " |  Data descriptors defined here:\n",
      " |  \n",
      " |  __dict__\n",
      " |      dictionary for instance variables (if defined)\n",
      " |  \n",
      " |  __weakref__\n",
      " |      list of weak references to the object (if defined)\n",
      "\n"
     ]
    }
   ],
   "source": [
    "class Student:\n",
    "    '''this is student class with required data'''\n",
    "print(Student.__doc__)\n",
    "help(Student)"
   ]
  },
  {
   "cell_type": "code",
   "execution_count": 3,
   "metadata": {},
   "outputs": [
    {
     "name": "stdout",
     "output_type": "stream",
     "text": [
      "hello i am : Prathyusha\n",
      "my age is: 20\n",
      "my marks are: 90\n",
      "my roll no. is: 19111344\n",
      "hello i am : lala\n",
      "my age is: 20\n",
      "my marks are: 88\n",
      "my roll no. is: 19111112\n"
     ]
    }
   ],
   "source": [
    "class Student:\n",
    "    '''developed by durga for python demo'''\n",
    "\n",
    "    def __init__(self,name,age,marks,rollno):\n",
    "        self.name=name\n",
    "        self.age=age\n",
    "        self.marks=marks\n",
    "        self.rollno=rollno\n",
    "\n",
    "    def talk(self):\n",
    "        print(\"hello i am :\",self.name)\n",
    "        print(\"my age is:\",self.age)\n",
    "        print(\"my marks are:\",self.marks)\n",
    "        print(\"my roll no. is:\",self.rollno)\n",
    "    \n",
    "s1=Student(\"Prathyusha\",20,90,19111344)\n",
    "s1.talk()\n",
    "\n",
    "s2=Student(\"lala\",20,88,19111112)\n",
    "s2.talk()"
   ]
  },
  {
   "cell_type": "code",
   "execution_count": 4,
   "metadata": {},
   "outputs": [
    {
     "name": "stdout",
     "output_type": "stream",
     "text": [
      "{'eno': 100, 'enamme': 'prathyusha', 'esal': 10000}\n"
     ]
    }
   ],
   "source": [
    "class employee:\n",
    "    \n",
    "    def __init__(self):\n",
    "        self.eno=100\n",
    "        self.enamme='prathyusha'\n",
    "        self.esal=10000\n",
    "    \n",
    "e=employee()\n",
    "print(e.__dict__)"
   ]
  },
  {
   "cell_type": "code",
   "execution_count": 5,
   "metadata": {},
   "outputs": [
    {
     "name": "stdout",
     "output_type": "stream",
     "text": [
      "{'a': 10, 'b': 20, 'c': 30, 'd': 40}\n"
     ]
    }
   ],
   "source": [
    "class test:\n",
    "    def __init__(self):\n",
    "        self.a=10\n",
    "        self.b=20\n",
    "        \n",
    "    def m1(self):\n",
    "        self.c=30\n",
    "\n",
    "t=test()\n",
    "t.m1()\n",
    "t.d=40\n",
    "print(t.__dict__)"
   ]
  },
  {
   "cell_type": "code",
   "execution_count": 8,
   "metadata": {},
   "outputs": [
    {
     "name": "stdout",
     "output_type": "stream",
     "text": [
      "Welcome to Durgabank\n",
      "Enter your Name:P\n",
      "P\n",
      "d-Deposit\n",
      "w-Withdraw\n",
      "e-exit\n",
      "choose your option:d\n",
      "Enter the amount to deposit:100\n",
      "100.0\n",
      "After deposit the balance: 100.0\n",
      "d-Deposit\n",
      "w-Withdraw\n",
      "e-exit\n",
      "choose your option:e\n",
      "Thanks for Banking\n"
     ]
    },
    {
     "ename": "SystemExit",
     "evalue": "",
     "output_type": "error",
     "traceback": [
      "An exception has occurred, use %tb to see the full traceback.\n",
      "\u001b[1;31mSystemExit\u001b[0m\n"
     ]
    },
    {
     "name": "stderr",
     "output_type": "stream",
     "text": [
      "C:\\Users\\Prathyu Lachireddy\\anaconda3\\lib\\site-packages\\IPython\\core\\interactiveshell.py:3426: UserWarning: To exit: use 'exit', 'quit', or Ctrl-D.\n",
      "  warn(\"To exit: use 'exit', 'quit', or Ctrl-D.\", stacklevel=1)\n"
     ]
    }
   ],
   "source": [
    "import sys\n",
    "class Customer:\n",
    "    '''customer class with bank operations'''\n",
    "    bankname=\"Durgabank\"\n",
    "   \n",
    "    def __init__(self,name):\n",
    "        self.name=name\n",
    "        print(self.name)\n",
    "        self.balance=0\n",
    "       \n",
    "    def deposit(self,amt):\n",
    "        print(amt)\n",
    "        self.balance=self.balance + amt\n",
    "        print('After deposit the balance:',self.balance)\n",
    "       \n",
    "    def withdraw(self,amt):\n",
    "        print(self.balance)\n",
    "        if amt>self.balance:\n",
    "            print('Insufficent funds..cannot perform this operation')\n",
    "            sys.exit()\n",
    "        self.balance=self.balance-amt\n",
    "        print('After withdraw the balance:',self.balance)\n",
    "       \n",
    "print('Welcome to', Customer.bankname)\n",
    "name=input('Enter your Name:')\n",
    "\n",
    "c=Customer(name)\n",
    "\n",
    "\n",
    "while True:\n",
    "    print('d-Deposit\\nw-Withdraw\\ne-exit')\n",
    "    option=input('choose your option:')\n",
    "    if option =='d'or option =='D':\n",
    "        amt=float(input('Enter the amount to deposit:'))\n",
    "        c.deposit(amt)\n",
    "       \n",
    "    elif option =='w'or option =='W':\n",
    "        amt=float(input('Enter Amount to withdraw:'))\n",
    "        c.withdraw(amt)\n",
    "       \n",
    "    elif option =='e'or option =='E':\n",
    "        print('Thanks for Banking')\n",
    "        sys.exit()\n",
    "    else:\n",
    "        print('Invalid option..plz choose valid option')"
   ]
  },
  {
   "cell_type": "code",
   "execution_count": 7,
   "metadata": {},
   "outputs": [
    {
     "name": "stdout",
     "output_type": "stream",
     "text": [
      "t1 10 20\n",
      "t2 10 20\n",
      "t1 888 999\n",
      "t2 888 999\n"
     ]
    }
   ],
   "source": [
    "class test:\n",
    "    x=10\n",
    "    def __init__(self):\n",
    "        self.y=20\n",
    "\n",
    "t1=test()\n",
    "t2=test()\n",
    "print('t1',t1.x,t1.y)\n",
    "print('t2',t1.x,t1.y)\n",
    "test.x=888\n",
    "t1.y=999\n",
    "print('t1',t1.x,t1.y)\n",
    "print('t2',t1.x,t1.y)"
   ]
  },
  {
   "cell_type": "code",
   "execution_count": null,
   "metadata": {},
   "outputs": [],
   "source": []
  }
 ],
 "metadata": {
  "kernelspec": {
   "display_name": "Python 3",
   "language": "python",
   "name": "python3"
  },
  "language_info": {
   "codemirror_mode": {
    "name": "ipython",
    "version": 3
   },
   "file_extension": ".py",
   "mimetype": "text/x-python",
   "name": "python",
   "nbconvert_exporter": "python",
   "pygments_lexer": "ipython3",
   "version": "3.8.5"
  }
 },
 "nbformat": 4,
 "nbformat_minor": 4
}
